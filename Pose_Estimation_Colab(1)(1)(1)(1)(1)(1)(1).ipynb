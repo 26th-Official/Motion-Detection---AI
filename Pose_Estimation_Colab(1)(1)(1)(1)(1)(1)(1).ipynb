{
  "cells": [
    {
      "cell_type": "code",
      "execution_count": 1,
      "metadata": {
        "colab": {
          "base_uri": "https://localhost:8080/"
        },
        "id": "qWJ84I5W78VB",
        "outputId": "b91a13f3-386b-4753-a3ed-f793ebf06784"
      },
      "outputs": [
        {
          "output_type": "stream",
          "name": "stdout",
          "text": [
            "Mounted at /content/drive\n"
          ]
        }
      ],
      "source": [
        "from google.colab import drive\n",
        "drive.mount(\"/content/drive\",force_remount=True)"
      ]
    },
    {
      "cell_type": "code",
      "execution_count": null,
      "metadata": {
        "id": "JGIYQ9rc4dFY"
      },
      "outputs": [],
      "source": [
        "# !pip install py7zr"
      ]
    },
    {
      "cell_type": "code",
      "execution_count": 2,
      "metadata": {
        "colab": {
          "base_uri": "https://localhost:8080/",
          "height": 1000
        },
        "id": "BIpeNU_z77YJ",
        "outputId": "bac9fa8c-e207-4fce-fbf4-fa1d05da8f0a"
      },
      "outputs": [
        {
          "output_type": "stream",
          "name": "stdout",
          "text": [
            "Looking in indexes: https://pypi.org/simple, https://us-python.pkg.dev/colab-wheels/public/simple/\n",
            "Collecting ipympl\n",
            "  Downloading ipympl-0.9.3-py2.py3-none-any.whl (511 kB)\n",
            "\u001b[2K     \u001b[90m━━━━━━━━━━━━━━━━━━━━━━━━━━━━━━━━━━━━━━\u001b[0m \u001b[32m511.6/511.6 KB\u001b[0m \u001b[31m26.5 MB/s\u001b[0m eta \u001b[36m0:00:00\u001b[0m\n",
            "\u001b[?25hRequirement already satisfied: traitlets<6 in /usr/local/lib/python3.9/dist-packages (from ipympl) (5.7.1)\n",
            "Requirement already satisfied: ipython-genutils in /usr/local/lib/python3.9/dist-packages (from ipympl) (0.2.0)\n",
            "Requirement already satisfied: pillow in /usr/local/lib/python3.9/dist-packages (from ipympl) (8.4.0)\n",
            "Requirement already satisfied: ipython<9 in /usr/local/lib/python3.9/dist-packages (from ipympl) (7.9.0)\n",
            "Requirement already satisfied: matplotlib<4,>=3.4.0 in /usr/local/lib/python3.9/dist-packages (from ipympl) (3.5.3)\n",
            "Requirement already satisfied: numpy in /usr/local/lib/python3.9/dist-packages (from ipympl) (1.22.4)\n",
            "Requirement already satisfied: ipywidgets<9,>=7.6.0 in /usr/local/lib/python3.9/dist-packages (from ipympl) (7.7.1)\n",
            "Requirement already satisfied: pickleshare in /usr/local/lib/python3.9/dist-packages (from ipython<9->ipympl) (0.7.5)\n",
            "Requirement already satisfied: decorator in /usr/local/lib/python3.9/dist-packages (from ipython<9->ipympl) (4.4.2)\n",
            "Requirement already satisfied: backcall in /usr/local/lib/python3.9/dist-packages (from ipython<9->ipympl) (0.2.0)\n",
            "Requirement already satisfied: prompt-toolkit<2.1.0,>=2.0.0 in /usr/local/lib/python3.9/dist-packages (from ipython<9->ipympl) (2.0.10)\n",
            "Requirement already satisfied: pygments in /usr/local/lib/python3.9/dist-packages (from ipython<9->ipympl) (2.6.1)\n",
            "Requirement already satisfied: pexpect in /usr/local/lib/python3.9/dist-packages (from ipython<9->ipympl) (4.8.0)\n",
            "Requirement already satisfied: setuptools>=18.5 in /usr/local/lib/python3.9/dist-packages (from ipython<9->ipympl) (57.4.0)\n",
            "Collecting jedi>=0.10\n",
            "  Downloading jedi-0.18.2-py2.py3-none-any.whl (1.6 MB)\n",
            "\u001b[2K     \u001b[90m━━━━━━━━━━━━━━━━━━━━━━━━━━━━━━━━━━━━━━━━\u001b[0m \u001b[32m1.6/1.6 MB\u001b[0m \u001b[31m78.9 MB/s\u001b[0m eta \u001b[36m0:00:00\u001b[0m\n",
            "\u001b[?25hRequirement already satisfied: jupyterlab-widgets>=1.0.0 in /usr/local/lib/python3.9/dist-packages (from ipywidgets<9,>=7.6.0->ipympl) (3.0.5)\n",
            "Requirement already satisfied: widgetsnbextension~=3.6.0 in /usr/local/lib/python3.9/dist-packages (from ipywidgets<9,>=7.6.0->ipympl) (3.6.2)\n",
            "Requirement already satisfied: ipykernel>=4.5.1 in /usr/local/lib/python3.9/dist-packages (from ipywidgets<9,>=7.6.0->ipympl) (5.3.4)\n",
            "Requirement already satisfied: python-dateutil>=2.7 in /usr/local/lib/python3.9/dist-packages (from matplotlib<4,>=3.4.0->ipympl) (2.8.2)\n",
            "Requirement already satisfied: packaging>=20.0 in /usr/local/lib/python3.9/dist-packages (from matplotlib<4,>=3.4.0->ipympl) (23.0)\n",
            "Requirement already satisfied: cycler>=0.10 in /usr/local/lib/python3.9/dist-packages (from matplotlib<4,>=3.4.0->ipympl) (0.11.0)\n",
            "Requirement already satisfied: fonttools>=4.22.0 in /usr/local/lib/python3.9/dist-packages (from matplotlib<4,>=3.4.0->ipympl) (4.39.0)\n",
            "Requirement already satisfied: pyparsing>=2.2.1 in /usr/local/lib/python3.9/dist-packages (from matplotlib<4,>=3.4.0->ipympl) (3.0.9)\n",
            "Requirement already satisfied: kiwisolver>=1.0.1 in /usr/local/lib/python3.9/dist-packages (from matplotlib<4,>=3.4.0->ipympl) (1.4.4)\n",
            "Requirement already satisfied: jupyter-client in /usr/local/lib/python3.9/dist-packages (from ipykernel>=4.5.1->ipywidgets<9,>=7.6.0->ipympl) (6.1.12)\n",
            "Requirement already satisfied: tornado>=4.2 in /usr/local/lib/python3.9/dist-packages (from ipykernel>=4.5.1->ipywidgets<9,>=7.6.0->ipympl) (6.2)\n",
            "Requirement already satisfied: parso<0.9.0,>=0.8.0 in /usr/local/lib/python3.9/dist-packages (from jedi>=0.10->ipython<9->ipympl) (0.8.3)\n",
            "Requirement already satisfied: wcwidth in /usr/local/lib/python3.9/dist-packages (from prompt-toolkit<2.1.0,>=2.0.0->ipython<9->ipympl) (0.2.6)\n",
            "Requirement already satisfied: six>=1.9.0 in /usr/local/lib/python3.9/dist-packages (from prompt-toolkit<2.1.0,>=2.0.0->ipython<9->ipympl) (1.15.0)\n",
            "Requirement already satisfied: notebook>=4.4.1 in /usr/local/lib/python3.9/dist-packages (from widgetsnbextension~=3.6.0->ipywidgets<9,>=7.6.0->ipympl) (6.3.0)\n",
            "Requirement already satisfied: ptyprocess>=0.5 in /usr/local/lib/python3.9/dist-packages (from pexpect->ipython<9->ipympl) (0.7.0)\n",
            "Requirement already satisfied: pyzmq>=17 in /usr/local/lib/python3.9/dist-packages (from notebook>=4.4.1->widgetsnbextension~=3.6.0->ipywidgets<9,>=7.6.0->ipympl) (23.2.1)\n",
            "Requirement already satisfied: jupyter-core>=4.6.1 in /usr/local/lib/python3.9/dist-packages (from notebook>=4.4.1->widgetsnbextension~=3.6.0->ipywidgets<9,>=7.6.0->ipympl) (5.2.0)\n",
            "Requirement already satisfied: jinja2 in /usr/local/lib/python3.9/dist-packages (from notebook>=4.4.1->widgetsnbextension~=3.6.0->ipywidgets<9,>=7.6.0->ipympl) (3.1.2)\n",
            "Requirement already satisfied: nbconvert in /usr/local/lib/python3.9/dist-packages (from notebook>=4.4.1->widgetsnbextension~=3.6.0->ipywidgets<9,>=7.6.0->ipympl) (6.5.4)\n",
            "Requirement already satisfied: terminado>=0.8.3 in /usr/local/lib/python3.9/dist-packages (from notebook>=4.4.1->widgetsnbextension~=3.6.0->ipywidgets<9,>=7.6.0->ipympl) (0.17.1)\n",
            "Requirement already satisfied: prometheus-client in /usr/local/lib/python3.9/dist-packages (from notebook>=4.4.1->widgetsnbextension~=3.6.0->ipywidgets<9,>=7.6.0->ipympl) (0.16.0)\n",
            "Requirement already satisfied: Send2Trash>=1.5.0 in /usr/local/lib/python3.9/dist-packages (from notebook>=4.4.1->widgetsnbextension~=3.6.0->ipywidgets<9,>=7.6.0->ipympl) (1.8.0)\n",
            "Requirement already satisfied: argon2-cffi in /usr/local/lib/python3.9/dist-packages (from notebook>=4.4.1->widgetsnbextension~=3.6.0->ipywidgets<9,>=7.6.0->ipympl) (21.3.0)\n",
            "Requirement already satisfied: nbformat in /usr/local/lib/python3.9/dist-packages (from notebook>=4.4.1->widgetsnbextension~=3.6.0->ipywidgets<9,>=7.6.0->ipympl) (5.7.3)\n",
            "Requirement already satisfied: platformdirs>=2.5 in /usr/local/lib/python3.9/dist-packages (from jupyter-core>=4.6.1->notebook>=4.4.1->widgetsnbextension~=3.6.0->ipywidgets<9,>=7.6.0->ipympl) (3.1.0)\n",
            "Requirement already satisfied: argon2-cffi-bindings in /usr/local/lib/python3.9/dist-packages (from argon2-cffi->notebook>=4.4.1->widgetsnbextension~=3.6.0->ipywidgets<9,>=7.6.0->ipympl) (21.2.0)\n",
            "Requirement already satisfied: MarkupSafe>=2.0 in /usr/local/lib/python3.9/dist-packages (from jinja2->notebook>=4.4.1->widgetsnbextension~=3.6.0->ipywidgets<9,>=7.6.0->ipympl) (2.1.2)\n",
            "Requirement already satisfied: entrypoints>=0.2.2 in /usr/local/lib/python3.9/dist-packages (from nbconvert->notebook>=4.4.1->widgetsnbextension~=3.6.0->ipywidgets<9,>=7.6.0->ipympl) (0.4)\n",
            "Requirement already satisfied: mistune<2,>=0.8.1 in /usr/local/lib/python3.9/dist-packages (from nbconvert->notebook>=4.4.1->widgetsnbextension~=3.6.0->ipywidgets<9,>=7.6.0->ipympl) (0.8.4)\n",
            "Requirement already satisfied: jupyterlab-pygments in /usr/local/lib/python3.9/dist-packages (from nbconvert->notebook>=4.4.1->widgetsnbextension~=3.6.0->ipywidgets<9,>=7.6.0->ipympl) (0.2.2)\n",
            "Requirement already satisfied: pandocfilters>=1.4.1 in /usr/local/lib/python3.9/dist-packages (from nbconvert->notebook>=4.4.1->widgetsnbextension~=3.6.0->ipywidgets<9,>=7.6.0->ipympl) (1.5.0)\n",
            "Requirement already satisfied: lxml in /usr/local/lib/python3.9/dist-packages (from nbconvert->notebook>=4.4.1->widgetsnbextension~=3.6.0->ipywidgets<9,>=7.6.0->ipympl) (4.9.2)\n",
            "Requirement already satisfied: tinycss2 in /usr/local/lib/python3.9/dist-packages (from nbconvert->notebook>=4.4.1->widgetsnbextension~=3.6.0->ipywidgets<9,>=7.6.0->ipympl) (1.2.1)\n",
            "Requirement already satisfied: bleach in /usr/local/lib/python3.9/dist-packages (from nbconvert->notebook>=4.4.1->widgetsnbextension~=3.6.0->ipywidgets<9,>=7.6.0->ipympl) (6.0.0)\n",
            "Requirement already satisfied: defusedxml in /usr/local/lib/python3.9/dist-packages (from nbconvert->notebook>=4.4.1->widgetsnbextension~=3.6.0->ipywidgets<9,>=7.6.0->ipympl) (0.7.1)\n",
            "Requirement already satisfied: beautifulsoup4 in /usr/local/lib/python3.9/dist-packages (from nbconvert->notebook>=4.4.1->widgetsnbextension~=3.6.0->ipywidgets<9,>=7.6.0->ipympl) (4.6.3)\n",
            "Requirement already satisfied: nbclient>=0.5.0 in /usr/local/lib/python3.9/dist-packages (from nbconvert->notebook>=4.4.1->widgetsnbextension~=3.6.0->ipywidgets<9,>=7.6.0->ipympl) (0.7.2)\n",
            "Requirement already satisfied: fastjsonschema in /usr/local/lib/python3.9/dist-packages (from nbformat->notebook>=4.4.1->widgetsnbextension~=3.6.0->ipywidgets<9,>=7.6.0->ipympl) (2.16.3)\n",
            "Requirement already satisfied: jsonschema>=2.6 in /usr/local/lib/python3.9/dist-packages (from nbformat->notebook>=4.4.1->widgetsnbextension~=3.6.0->ipywidgets<9,>=7.6.0->ipympl) (4.3.3)\n",
            "Requirement already satisfied: attrs>=17.4.0 in /usr/local/lib/python3.9/dist-packages (from jsonschema>=2.6->nbformat->notebook>=4.4.1->widgetsnbextension~=3.6.0->ipywidgets<9,>=7.6.0->ipympl) (22.2.0)\n",
            "Requirement already satisfied: pyrsistent!=0.17.0,!=0.17.1,!=0.17.2,>=0.14.0 in /usr/local/lib/python3.9/dist-packages (from jsonschema>=2.6->nbformat->notebook>=4.4.1->widgetsnbextension~=3.6.0->ipywidgets<9,>=7.6.0->ipympl) (0.19.3)\n",
            "Requirement already satisfied: cffi>=1.0.1 in /usr/local/lib/python3.9/dist-packages (from argon2-cffi-bindings->argon2-cffi->notebook>=4.4.1->widgetsnbextension~=3.6.0->ipywidgets<9,>=7.6.0->ipympl) (1.15.1)\n",
            "Requirement already satisfied: webencodings in /usr/local/lib/python3.9/dist-packages (from bleach->nbconvert->notebook>=4.4.1->widgetsnbextension~=3.6.0->ipywidgets<9,>=7.6.0->ipympl) (0.5.1)\n",
            "Requirement already satisfied: pycparser in /usr/local/lib/python3.9/dist-packages (from cffi>=1.0.1->argon2-cffi-bindings->argon2-cffi->notebook>=4.4.1->widgetsnbextension~=3.6.0->ipywidgets<9,>=7.6.0->ipympl) (2.21)\n",
            "Installing collected packages: jedi, ipympl\n",
            "Successfully installed ipympl-0.9.3 jedi-0.18.2\n",
            "Looking in indexes: https://pypi.org/simple, https://us-python.pkg.dev/colab-wheels/public/simple/\n",
            "Requirement already satisfied: matplotlib in /usr/local/lib/python3.9/dist-packages (3.5.3)\n",
            "Collecting matplotlib\n",
            "  Downloading matplotlib-3.7.1-cp39-cp39-manylinux_2_17_x86_64.manylinux2014_x86_64.whl (11.6 MB)\n",
            "\u001b[2K     \u001b[90m━━━━━━━━━━━━━━━━━━━━━━━━━━━━━━━━━━━━━━━━\u001b[0m \u001b[32m11.6/11.6 MB\u001b[0m \u001b[31m97.1 MB/s\u001b[0m eta \u001b[36m0:00:00\u001b[0m\n",
            "\u001b[?25hRequirement already satisfied: numpy>=1.20 in /usr/local/lib/python3.9/dist-packages (from matplotlib) (1.22.4)\n",
            "Requirement already satisfied: kiwisolver>=1.0.1 in /usr/local/lib/python3.9/dist-packages (from matplotlib) (1.4.4)\n",
            "Requirement already satisfied: pillow>=6.2.0 in /usr/local/lib/python3.9/dist-packages (from matplotlib) (8.4.0)\n",
            "Requirement already satisfied: fonttools>=4.22.0 in /usr/local/lib/python3.9/dist-packages (from matplotlib) (4.39.0)\n",
            "Requirement already satisfied: packaging>=20.0 in /usr/local/lib/python3.9/dist-packages (from matplotlib) (23.0)\n",
            "Requirement already satisfied: pyparsing>=2.3.1 in /usr/local/lib/python3.9/dist-packages (from matplotlib) (3.0.9)\n",
            "Collecting contourpy>=1.0.1\n",
            "  Downloading contourpy-1.0.7-cp39-cp39-manylinux_2_17_x86_64.manylinux2014_x86_64.whl (299 kB)\n",
            "\u001b[2K     \u001b[90m━━━━━━━━━━━━━━━━━━━━━━━━━━━━━━━━━━━━━━\u001b[0m \u001b[32m299.7/299.7 KB\u001b[0m \u001b[31m31.5 MB/s\u001b[0m eta \u001b[36m0:00:00\u001b[0m\n",
            "\u001b[?25hRequirement already satisfied: importlib-resources>=3.2.0 in /usr/local/lib/python3.9/dist-packages (from matplotlib) (5.12.0)\n",
            "Requirement already satisfied: python-dateutil>=2.7 in /usr/local/lib/python3.9/dist-packages (from matplotlib) (2.8.2)\n",
            "Requirement already satisfied: cycler>=0.10 in /usr/local/lib/python3.9/dist-packages (from matplotlib) (0.11.0)\n",
            "Requirement already satisfied: zipp>=3.1.0 in /usr/local/lib/python3.9/dist-packages (from importlib-resources>=3.2.0->matplotlib) (3.15.0)\n",
            "Requirement already satisfied: six>=1.5 in /usr/local/lib/python3.9/dist-packages (from python-dateutil>=2.7->matplotlib) (1.15.0)\n",
            "Installing collected packages: contourpy, matplotlib\n",
            "  Attempting uninstall: matplotlib\n",
            "    Found existing installation: matplotlib 3.5.3\n",
            "    Uninstalling matplotlib-3.5.3:\n",
            "      Successfully uninstalled matplotlib-3.5.3\n",
            "Successfully installed contourpy-1.0.7 matplotlib-3.7.1\n"
          ]
        },
        {
          "output_type": "display_data",
          "data": {
            "application/vnd.colab-display-data+json": {
              "pip_warning": {
                "packages": [
                  "matplotlib",
                  "mpl_toolkits"
                ]
              }
            }
          },
          "metadata": {}
        }
      ],
      "source": [
        "!pip install ipympl\n",
        "!pip install matplotlib --upgrade"
      ]
    },
    {
      "cell_type": "code",
      "execution_count": null,
      "metadata": {
        "id": "w7sjf0GH83Zi"
      },
      "outputs": [],
      "source": [
        "# !py7zr x /content/drive/MyDrive/Blender_Build/Renders_and_FBX_Data/FBX_Data_V2.7z\n",
        "# !py7zr x /content/drive/MyDrive/Blender_Build/Renders_and_FBX_Data/Renders.7z"
      ]
    },
    {
      "cell_type": "code",
      "execution_count": null,
      "metadata": {
        "id": "6Rg2cMYs_gLu"
      },
      "outputs": [],
      "source": [
        "# !cp -r /content/FBX_Data_V2 /content/drive/MyDrive/Blender_Build/Renders_and_FBX_Data/\n",
        "# !cp -r /content/Renders /content/drive/MyDrive/Blender_Build/Renders_and_FBX_Data/"
      ]
    },
    {
      "cell_type": "code",
      "execution_count": null,
      "metadata": {
        "id": "zWVfvTGFA17D"
      },
      "outputs": [],
      "source": [
        "# !cp -r /content/drive/MyDrive/Blender_Build/Renders_and_FBX_Data/FBX_Data_V2 /content\n",
        "# !cp -r /content/drive/MyDrive/Blender_Build/Renders_and_FBX_Data/Renders /content"
      ]
    },
    {
      "cell_type": "code",
      "execution_count": 3,
      "metadata": {
        "id": "eEeLYy-g7rMl"
      },
      "outputs": [],
      "source": [
        "import gc\n",
        "import os\n",
        "from shutil import copy2,rmtree\n",
        "import json\n",
        "from tqdm import tqdm\n",
        "import pickle\n",
        "import random;random.seed(53)\n",
        "from datetime import datetime\n",
        "\n",
        "from functools import partial\n",
        "\n",
        "\n",
        "import numpy as np\n",
        "import cv2\n",
        "from PIL import Image\n",
        "import pandas as pd\n",
        "import matplotlib.pyplot as plt\n",
        "\n",
        "from sklearn.model_selection import train_test_split\n",
        "from sklearn.metrics import mean_squared_error\n",
        "from sklearn.preprocessing import MinMaxScaler,StandardScaler\n",
        "from sklearn.utils import shuffle\n",
        "\n",
        "import tensorflow as tf\n",
        "from tensorflow.keras.preprocessing.image import ImageDataGenerator"
      ]
    },
    {
      "cell_type": "code",
      "execution_count": null,
      "metadata": {
        "colab": {
          "base_uri": "https://localhost:8080/"
        },
        "id": "xSbrLZ7u7rMn",
        "outputId": "f070b572-f28b-4613-ea8b-18b2b24c8855"
      },
      "outputs": [
        {
          "data": {
            "text/plain": [
              "[PhysicalDevice(name='/physical_device:CPU:0', device_type='CPU')]"
            ]
          },
          "execution_count": 31,
          "metadata": {},
          "output_type": "execute_result"
        }
      ],
      "source": [
        "tf.config.list_physical_devices()"
      ]
    },
    {
      "cell_type": "code",
      "execution_count": null,
      "metadata": {
        "colab": {
          "base_uri": "https://localhost:8080/"
        },
        "id": "2MVPQy3Uou20",
        "outputId": "af31a580-93a4-4944-8984-3b1253ab1f53"
      },
      "outputs": [
        {
          "name": "stdout",
          "output_type": "stream",
          "text": [
            "Found TPU at: grpc://10.85.46.106:8470\n"
          ]
        },
        {
          "name": "stderr",
          "output_type": "stream",
          "text": [
            "WARNING:tensorflow:TPU system grpc://10.85.46.106:8470 has already been initialized. Reinitializing the TPU can cause previously created variables on TPU to be lost.\n"
          ]
        }
      ],
      "source": [
        "# try:\n",
        "#   device_name = os.environ['COLAB_TPU_ADDR']\n",
        "#   TPU_ADDRESS = 'grpc://' + device_name\n",
        "#   print('Found TPU at: {}'.format(TPU_ADDRESS))\n",
        "#   tpu_resolver = tf.distribute.cluster_resolver.TPUClusterResolver(tpu=TPU_ADDRESS)\n",
        "#   tf.config.experimental_connect_to_cluster(tpu_resolver)\n",
        "#   tf.tpu.experimental.initialize_tpu_system(tpu_resolver)\n",
        "#   tpu_strategy = tf.distribute.TPUStrategy(tpu_resolver)\n",
        "# except KeyError:\n",
        "#   print('TPU not found')"
      ]
    },
    {
      "cell_type": "code",
      "execution_count": null,
      "metadata": {
        "id": "02oVHch77rMn"
      },
      "outputs": [],
      "source": [
        "gpus = tf.config.list_physical_devices('GPU')\n",
        "for gpu in gpus:\n",
        "    tf.config.experimental.set_memory_growth(gpu, True)\n",
        "\n",
        "from google.colab import output\n",
        "output.enable_custom_widget_manager()"
      ]
    },
    {
      "cell_type": "code",
      "execution_count": null,
      "metadata": {
        "id": "XDCPoi9NxOjc"
      },
      "outputs": [],
      "source": [
        "scaler = MinMaxScaler()"
      ]
    },
    {
      "cell_type": "code",
      "execution_count": null,
      "metadata": {
        "id": "e8Bh58b57rMo"
      },
      "outputs": [],
      "source": [
        "joints = [\n",
        "         \"Shoulder_L\",\"Elbow_L\",\"Wrist_L\",\n",
        "         \"Shoulder_R\",\"Elbow_R\",\"Wrist_R\",\n",
        "         \"Pelvis_L\",\"Knee_L\",\"Ankle_L\",\n",
        "         \"Pelvis_R\",\"Knee_R\",\"Ankle_R\"\n",
        "]"
      ]
    },
    {
      "cell_type": "code",
      "execution_count": null,
      "metadata": {
        "colab": {
          "base_uri": "https://localhost:8080/"
        },
        "id": "Wq32n-2wxGJW",
        "outputId": "0edd1ddb-62ab-42ee-ff0e-8041dd354517"
      },
      "outputs": [
        {
          "data": {
            "text/plain": [
              "16"
            ]
          },
          "execution_count": 36,
          "metadata": {},
          "output_type": "execute_result"
        }
      ],
      "source": [
        "label_dir = r\"/content/drive/MyDrive/Blender_Build/Renders_and_FBX_Data/Render_Labels\"\n",
        "files = os.listdir(label_dir)\n",
        "\n",
        "labels = {}\n",
        "\n",
        "for i in files:\n",
        "    keypoints = []\n",
        "    with open(os.path.join(label_dir,i),\"r\") as a:\n",
        "        dic = json.load(a)\n",
        "        \n",
        "                \n",
        "    dic = list(dic.values())\n",
        "        \n",
        "    for j in range(len(dic)):\n",
        "        temp = []\n",
        "        for k in joints:\n",
        "            te = dic[j][k]\n",
        "            for l in te:\n",
        "                temp.append(l/100)\n",
        "        # print(temp)\n",
        "        keypoints.append(temp)\n",
        "        \n",
        "    keypoints_scaled = scaler.fit_transform(keypoints)\n",
        "    labels[i[:-5]] = keypoints_scaled\n",
        "            \n",
        "len(labels)"
      ]
    },
    {
      "cell_type": "code",
      "execution_count": null,
      "metadata": {
        "colab": {
          "base_uri": "https://localhost:8080/"
        },
        "id": "Y1B5N8sB7rMt",
        "outputId": "5bcd2923-c4e1-468b-c568-90510b1b3b6b"
      },
      "outputs": [
        {
          "name": "stdout",
          "output_type": "stream",
          "text": [
            "dict_keys(['tmp_2', 'tmp_1_r', 'tmp_6', 'tmp_10', 'tmp_7', 'tmp_8', 'tmp_12', 'tmp_2_r', 'tmp_1', 'tmp_13', 'tmp_3', 'tmp_4', 'tmp_6_r', 'tmp_11', 'tmp_9', 'tmp_5'])\n",
            "1910\n",
            "36\n"
          ]
        }
      ],
      "source": [
        "print(labels.keys())\n",
        "print(len(list(labels.values())[0]))\n",
        "print(len(list(labels.values())[0][0]))"
      ]
    },
    {
      "cell_type": "markdown",
      "metadata": {
        "id": "KaF_kxEM7rMw"
      },
      "source": [
        "---"
      ]
    },
    {
      "cell_type": "code",
      "execution_count": null,
      "metadata": {
        "colab": {
          "base_uri": "https://localhost:8080/"
        },
        "id": "DHBeHOop4QCP",
        "outputId": "61465e16-3519-4996-acee-59644128457b"
      },
      "outputs": [
        {
          "data": {
            "text/plain": [
              "array([[0.70040547, 0.87805002, 0.54813887, ..., 0.36184861, 0.0227302 ,\n",
              "        0.50591899],\n",
              "       [0.6984425 , 0.86112908, 0.64917407, ..., 0.35647189, 0.05128916,\n",
              "        0.53203595],\n",
              "       [0.68990915, 0.8234097 , 0.71384599, ..., 0.35111159, 0.11000309,\n",
              "        0.55016192],\n",
              "       ...,\n",
              "       [0.58613076, 0.91408958, 0.61461221, ..., 0.45938682, 0.01794096,\n",
              "        0.43772506],\n",
              "       [0.66983429, 0.9047077 , 0.54746941, ..., 0.49384482, 0.02106799,\n",
              "        0.41630686],\n",
              "       [0.68108881, 0.89993289, 0.52001651, ..., 0.48574019, 0.0174662 ,\n",
              "        0.44870642]])"
            ]
          },
          "execution_count": 38,
          "metadata": {},
          "output_type": "execute_result"
        }
      ],
      "source": [
        "labels[\"tmp_1_r\"]"
      ]
    },
    {
      "cell_type": "code",
      "source": [
        "print(len(os.listdir(r\"/content/drive/MyDrive/Blender_Build/Renders_and_FBX_Data/Renders\")))\n",
        "print(len(os.listdir(r\"/content/drive/MyDrive/Blender_Build/Renders_and_FBX_Data/All_Renders\")))"
      ],
      "metadata": {
        "id": "BXEibdAg_pkr",
        "outputId": "454248cc-2bf7-4e77-8fac-650adbc3d9da",
        "colab": {
          "base_uri": "https://localhost:8080/"
        }
      },
      "execution_count": null,
      "outputs": [
        {
          "output_type": "stream",
          "name": "stdout",
          "text": [
            "16\n"
          ]
        }
      ]
    },
    {
      "cell_type": "code",
      "execution_count": null,
      "metadata": {
        "id": "uGgJTEhr4vER"
      },
      "outputs": [],
      "source": [
        "# main_dir = r\"/content/drive/MyDrive/Blender_Build/Renders_and_FBX_Data/Renders\"\n",
        "# main_files = os.listdir(main_dir)\n",
        "\n",
        "# for i in main_files:\n",
        "#   for j in os.listdir(os.path.join(main_dir,i)):\n",
        "#     if \"Render_test\" in j:\n",
        "#       os.rename(os.path.join(main_dir,i,j),os.path.join(main_dir,i,j.replace(\"Render_test\",\"\")))"
      ]
    },
    {
      "cell_type": "markdown",
      "metadata": {
        "id": "41xrO9zQ7rMx"
      },
      "source": [
        "## Rename Images"
      ]
    },
    {
      "cell_type": "code",
      "execution_count": null,
      "metadata": {
        "id": "N5TNOLoZ7rMx"
      },
      "outputs": [],
      "source": [
        "# main_dir = r\"/content/drive/MyDrive/Blender_Build/Renders_and_FBX_Data/Renders\"\n",
        "\n",
        "# for dirs,progress in zip(os.listdir(main_dir),tqdm(range(len(os.listdir(main_dir))),desc=f\"Renaming...\")):\n",
        "#     for i in os.listdir(os.path.join(main_dir,dirs)):\n",
        "#         if \"tmp\" not in i:\n",
        "#             os.rename(os.path.join(main_dir,dirs,i),os.path.join(main_dir,dirs,f\"{dirs}_{i}\"))"
      ]
    },
    {
      "cell_type": "markdown",
      "metadata": {
        "id": "w4qn7UR87rMy"
      },
      "source": [
        "---"
      ]
    },
    {
      "cell_type": "markdown",
      "metadata": {
        "id": "Q1kHlKrY7rMy"
      },
      "source": [
        "## Copy all images and preprocessing them to  Folder"
      ]
    },
    {
      "cell_type": "code",
      "execution_count": null,
      "metadata": {
        "id": "deIEv0oB7rMz"
      },
      "outputs": [],
      "source": [
        "# try:\n",
        "#   try:\n",
        "#     rmtree(\"/content/All_Renders\")\n",
        "#     print(\"Removed All_Renders\")\n",
        "#   except:\n",
        "#     os.mkdir(\"/content/All_Renders\")\n",
        "#     print(\"Created All_Renders\")\n",
        "# except:\n",
        "#   pass\n",
        "\n",
        "# main_dir = r\"/content/drive/MyDrive/Blender_Build/Renders_and_FBX_Data/Renders\"\n",
        "# dest_dir = r\"/content/All_Renders\"\n",
        "\n",
        "# for dirs,progress in zip(os.listdir(main_dir),tqdm(range(len(os.listdir(main_dir))),desc=f\"Copying...\")):\n",
        "#     for i in os.listdir(os.path.join(main_dir,dirs)):\n",
        "#         copy2(os.path.join(main_dir,dirs,i),os.path.join(dest_dir,i))\n",
        "        \n",
        "#         img = Image.open(os.path.join(dest_dir,i))\n",
        "#         bg = Image.new(\"RGB\",img.size,(255,255,255))\n",
        "#         # bg = Image.open(os.path.join(backgrounds,f\"{random.randint(0,len(bg_list)-1)}.jpg\")).resize((200,200))\n",
        "#         bg.paste(img,mask=img)\n",
        "#         # bg = bg.convert(\"L\")\n",
        "#         bg.save(os.path.join(dest_dir,i.replace(\"png\",\"jpg\")))\n",
        "#         os.remove(os.path.join(dest_dir,i))\n",
        "\n",
        "# try:\n",
        "#   rmtree(\"/content/drive/MyDrive/Blender_Build/Renders_and_FBX_Data/All_Renders\")\n",
        "#   print(\"Removed All_Renders\")\n",
        "# except:\n",
        "#   pass\n",
        "\n",
        "# !cp -r /content/All_Renders  /content/drive/MyDrive/Blender_Build/Renders_and_FBX_Data  "
      ]
    },
    {
      "cell_type": "code",
      "execution_count": null,
      "metadata": {
        "colab": {
          "base_uri": "https://localhost:8080/"
        },
        "id": "qISmCvjpxKfB",
        "outputId": "764bb9e3-40cc-4aab-cc6a-3016f7203ecb"
      },
      "outputs": [
        {
          "data": {
            "text/plain": [
              "449"
            ]
          },
          "execution_count": 47,
          "metadata": {},
          "output_type": "execute_result"
        }
      ],
      "source": [
        "len(os.listdir(\"/content/drive/MyDrive/Blender_Build/Renders_and_FBX_Data/Renders/tmp_2\"))"
      ]
    },
    {
      "cell_type": "markdown",
      "metadata": {
        "id": "OASbwopy7rM0"
      },
      "source": [
        "---"
      ]
    },
    {
      "cell_type": "markdown",
      "metadata": {
        "id": "UOM15Pdd7rM1"
      },
      "source": [
        "## All Images and Keypoints to Dataframe"
      ]
    },
    {
      "cell_type": "code",
      "execution_count": null,
      "metadata": {
        "id": "lkN1Dlwe7rM1"
      },
      "outputs": [],
      "source": [
        "keypoint_name = []\n",
        "\n",
        "for i in range(0,len(keypoints[0])):\n",
        "    keypoint_name.append(f\"keypoints_{i}\")\n",
        "\n",
        "keypoint_name"
      ]
    },
    {
      "cell_type": "code",
      "execution_count": null,
      "metadata": {
        "id": "nrnz-YSO7rM1"
      },
      "outputs": [],
      "source": [
        "# data = pd.DataFrame(columns=[\"images\"]+keypoint_name)\n",
        "\n",
        "# images_dir =r\"/content/drive/MyDrive/Blender_Build/Renders_and_FBX_Data/All_Renders\"\n",
        "\n",
        "# keypoint_count = 0\n",
        "\n",
        "# for file,progress,index in zip(os.listdir(images_dir),tqdm(range(len(os.listdir(images_dir))),desc=\"Adding to DataFrame\"),range(0,len(os.listdir(images_dir)))):\n",
        "#     if keypoint_count != 1910:\n",
        "#         data.loc[index] = os.path.join(images_dir,file)\n",
        "#         for i in range(0,len(keypoints[0])):\n",
        "#             data[keypoint_name[i]][index] = labels[file[:-9]][keypoint_count][i]\n",
        "#         keypoint_count += 1\n",
        "\n",
        "#     else:\n",
        "#         keypoint_count = 0\n",
        "#         data.loc[index] = os.path.join(images_dir,file)\n",
        "#         for i in range(0,len(keypoints[0])):\n",
        "#             data[keypoint_name[i]][index] = labels[file[:-9]][keypoint_count][i]\n",
        "#         keypoint_count += 1\n",
        "\n",
        "    \n",
        "# data.to_csv(r\"/content/All_Images_Dataset.csv\",index=False)  \n",
        "\n",
        "# !cp /content/All_Images_Dataset.csv /content/drive/MyDrive/Blender_Build/Renders_and_FBX_Data      \n",
        "\n",
        "# data"
      ]
    },
    {
      "cell_type": "code",
      "execution_count": null,
      "metadata": {
        "id": "HxVJ8zOS7rM2"
      },
      "outputs": [],
      "source": [
        "# !cp /content/drive/MyDrive/Blender_Build/Renders_and_FBX_Data/All_Images_Dataset.csv /content\n",
        "\n",
        "images_dir = r\"/content/drive/MyDrive/Blender_Build/Renders_and_FBX_Data/All_Renders\"\n",
        "data = pd.read_csv(r\"/content/drive/MyDrive/Blender_Build/Renders_and_FBX_Data/All_Images_Dataset.csv\",index_col=False)\n",
        "data = shuffle(data,random_state=42)\n",
        "data"
      ]
    },
    {
      "cell_type": "markdown",
      "metadata": {
        "id": "SRgCAej37rM2"
      },
      "source": [
        "---"
      ]
    },
    {
      "cell_type": "code",
      "execution_count": null,
      "metadata": {
        "id": "xNpwKXMX7rM2"
      },
      "outputs": [],
      "source": [
        "x_train,x_test,y_train,y_test = train_test_split(data[\"images\"],data[keypoint_name],test_size=0.1)\n",
        "\n",
        "train_df = pd.DataFrame(columns=[\"images\"]+keypoint_name)\n",
        "train_df[\"images\"] = x_train\n",
        "train_df[keypoint_name] = y_train[keypoint_name]\n",
        "\n",
        "test_df = pd.DataFrame(columns=[\"images\"]+keypoint_name)\n",
        "test_df[\"images\"] = x_test\n",
        "test_df[keypoint_name] = y_test[keypoint_name]"
      ]
    },
    {
      "cell_type": "code",
      "execution_count": null,
      "metadata": {
        "id": "Hs3dk8Mh7rM3"
      },
      "outputs": [],
      "source": [
        "train_datagen = ImageDataGenerator(rescale = 1./255) \n",
        "train_generator = train_datagen.flow_from_dataframe(dataframe=train_df, \n",
        "                                              x_col=\"images\", y_col=keypoint_name, has_ext=True, \n",
        "                                              class_mode=\"multi_output\", target_size=(200, 200), \n",
        "                                              batch_size=32)\n",
        "\n",
        "test_datagen = ImageDataGenerator(rescale = 1./255) \n",
        "test_generator = test_datagen.flow_from_dataframe(dataframe=test_df, \n",
        "                                              x_col=\"images\", y_col=keypoint_name, has_ext=True, \n",
        "                                              class_mode=\"multi_output\", target_size=(200, 200), \n",
        "                                              batch_size=32)"
      ]
    },
    {
      "cell_type": "code",
      "execution_count": null,
      "metadata": {
        "id": "cJ4gAgut7rM3"
      },
      "outputs": [],
      "source": [
        "# backgrounds = \"./Background/\"\n",
        "# bg_list = os.listdir(backgrounds)"
      ]
    },
    {
      "cell_type": "code",
      "execution_count": null,
      "metadata": {
        "id": "L0kKrzSr7rM5"
      },
      "outputs": [],
      "source": [
        "dirs = []\n",
        "main_dir = r\"/content/drive/MyDrive/Blender_Build/Renders_and_FBX_Data/Renders\"\n",
        "\n",
        "for i in os.listdir(main_dir):\n",
        "    dirs.append(os.path.join(main_dir,i))\n",
        "dirs"
      ]
    },
    {
      "cell_type": "markdown",
      "metadata": {
        "id": "nZGiPuY87rM6"
      },
      "source": [
        "## Preprocessing"
      ]
    },
    {
      "cell_type": "code",
      "execution_count": null,
      "metadata": {
        "id": "UNkFkZbD7rM6"
      },
      "outputs": [],
      "source": [
        "train_count = 1\n",
        "items_left = len(dirs)\n",
        "\n",
        "\n",
        "def image_preprocess(batch_size,test_size=0.2,input_size=(200,200)):\n",
        "    x_train = []\n",
        "    sets = 1\n",
        "    global items_left\n",
        "    \n",
        "    from_ = (train_count*batch_size)-batch_size\n",
        "    to_ = train_count*batch_size\n",
        "    \n",
        "    for j in dirs[from_:to_]:\n",
        "        for i,t in zip(os.listdir(j),tqdm(range(len(os.listdir(j))),desc=f\"Loading... ===> Set-{sets}/{batch_size}\")):\n",
        "            img = Image.open(os.path.join(j,i)).resize((input_size[0],input_size[1]))\n",
        "            bg = Image.new(\"RGB\",img.size,(255,255,255))\n",
        "            # bg = Image.open(os.path.join(backgrounds,f\"{random.randint(0,len(bg_list)-1)}.jpg\")).resize((200,200))\n",
        "            bg.paste(img,mask=img)\n",
        "            # bg = bg.convert(\"L\")\n",
        "            # img = np.asarray(bg).flatten()/255\n",
        "            img = np.asarray(bg)/255\n",
        "            x_train.append(img)\n",
        "        \n",
        "        sets += 1\n",
        "\n",
        "            \n",
        "    x_train = np.array(x_train)   \n",
        "    print(f\"x_train ----->  {x_train.shape}\") \n",
        "    \n",
        "    y_train = np.array(keypoints)\n",
        "    y_train = scaler.inverse_transform(y_train) \n",
        "    print(f\"y_train ----->  {y_train.shape}\")\n",
        "    \n",
        "\n",
        "        \n",
        "    \n",
        "    x_train,x_test,y_train,y_test = train_test_split(x_train,y_train,test_size=test_size,random_state=42,shuffle=True)\n",
        "    print(f\"x_train,x_test,y_train,y_test ----split---->  {x_train.shape,x_test.shape,y_train.shape,y_test.shape}\")\n",
        "    \n",
        "    #-----------cleaning---------------\n",
        "    del img,sets,from_,to_\n",
        "    #-----------cleaning---------------\n",
        "    \n",
        "    return x_train,x_test,y_train,y_test\n",
        "    "
      ]
    },
    {
      "cell_type": "markdown",
      "metadata": {
        "id": "SN6LCzAj7rM6"
      },
      "source": [
        "---"
      ]
    },
    {
      "cell_type": "markdown",
      "metadata": {
        "id": "yKtf1AsH7rM7"
      },
      "source": [
        "## Plotting"
      ]
    },
    {
      "cell_type": "code",
      "execution_count": null,
      "metadata": {
        "id": "bBcafReF7rM7"
      },
      "outputs": [],
      "source": [
        "colors = [\"red\",\"blue\",\"green\",\"purple\",\"orange\"]\n",
        "\n",
        "# ====================================================\n",
        "\n",
        "s2 = [\n",
        "    \"Shoulder_L\",\"Elbow_L\",\"Wrist_L\",\n",
        "]\n",
        "\n",
        "s3 = [\n",
        "    \"Shoulder_R\",\"Elbow_R\",\"Wrist_R\",\n",
        "]\n",
        "\n",
        "s4 = [\n",
        "    \"Pelvis_L\",\"Knee_L\",\"Ankle_L\",\n",
        "]\n",
        "\n",
        "s5 = [\n",
        "    \"Pelvis_R\",\"Knee_R\",\"Ankle_R\"\n",
        "]\n",
        "\n",
        "s6_connect = [\n",
        "    \"Shoulder_L\",\n",
        "    \"Pelvis_L\",\n",
        "    \"Pelvis_R\",\n",
        "    \"Shoulder_R\",\n",
        "]\n",
        "\n",
        "# ====================================================\n",
        "\n",
        "\n",
        "def empty_coordinate():\n",
        "    main_coordinates = {\n",
        "        \"s1\" : {\n",
        "            \"x\" : [],\n",
        "            \"y\" : [],\n",
        "            \"z\" : []\n",
        "        },\n",
        "\n",
        "        \"s2\" : {\n",
        "            \"x\" : [],\n",
        "            \"y\" : [],\n",
        "            \"z\" : []\n",
        "        },\n",
        "\n",
        "        \"s3\" : {\n",
        "            \"x\" : [],\n",
        "            \"y\" : [],\n",
        "            \"z\" : []\n",
        "        },\n",
        "\n",
        "        \"s4\" : {\n",
        "            \"x\" : [],\n",
        "            \"y\" : [],\n",
        "            \"z\" : []\n",
        "        },\n",
        "\n",
        "        \"s5\" : {\n",
        "            \"x\" : [],\n",
        "            \"y\" : [],\n",
        "            \"z\" : []\n",
        "        },\n",
        "        \n",
        "        \"s6_connect\" : {\n",
        "            \"0\" : {\n",
        "                \"x\" : [],\n",
        "                \"y\" : [],\n",
        "                \"z\" : []\n",
        "        },\n",
        "            \n",
        "            \"1\" : {\n",
        "                \"x\" : [],\n",
        "                \"y\" : [],\n",
        "                \"z\" : []\n",
        "        },\n",
        "            \n",
        "            \"2\" : {\n",
        "                \"x\" : [],\n",
        "                \"y\" : [],\n",
        "                \"z\" : []\n",
        "        },\n",
        "            \n",
        "            \"3\" : {\n",
        "                \"x\" : [],\n",
        "                \"y\" : [],\n",
        "                \"z\" : []\n",
        "        }\n",
        "        }\n",
        "        \n",
        "    }\n",
        "    \n",
        "    return main_coordinates"
      ]
    },
    {
      "cell_type": "code",
      "execution_count": null,
      "metadata": {
        "id": "Q0fz1dEt7rM9"
      },
      "outputs": [],
      "source": [
        "%matplotlib widget\n",
        "def plot_results(data):\n",
        "    coordinates = data\n",
        "    main_coordinates = empty_coordinate()\n",
        "    \n",
        "    for i in list(coordinates.keys()):\n",
        "        # if i in s1:\n",
        "        #     x,y,z = coordinates[i]\n",
        "        #     main_coordinates[\"s1\"][\"x\"].append(x)\n",
        "        #     main_coordinates[\"s1\"][\"y\"].append(y)\n",
        "        #     main_coordinates[\"s1\"][\"z\"].append(z)\n",
        "            \n",
        "        if i in s2:\n",
        "            x,y,z = coordinates[i]\n",
        "            main_coordinates[\"s2\"][\"x\"].append(x)\n",
        "            main_coordinates[\"s2\"][\"y\"].append(y)\n",
        "            main_coordinates[\"s2\"][\"z\"].append(z)\n",
        "            \n",
        "        elif i in s3:\n",
        "            x,y,z = coordinates[i]\n",
        "            main_coordinates[\"s3\"][\"x\"].append(x)\n",
        "            main_coordinates[\"s3\"][\"y\"].append(y)\n",
        "            main_coordinates[\"s3\"][\"z\"].append(z)\n",
        "            \n",
        "        elif i in s4:\n",
        "            x,y,z = coordinates[i]\n",
        "            main_coordinates[\"s4\"][\"x\"].append(x)\n",
        "            main_coordinates[\"s4\"][\"y\"].append(y)\n",
        "            main_coordinates[\"s4\"][\"z\"].append(z)\n",
        "            \n",
        "        elif i in s5:\n",
        "            x,y,z = coordinates[i]\n",
        "            main_coordinates[\"s5\"][\"x\"].append(x)\n",
        "            main_coordinates[\"s5\"][\"y\"].append(y)\n",
        "            main_coordinates[\"s5\"][\"z\"].append(z)\n",
        "            \n",
        "\n",
        "    count = 0\n",
        "    for i in range(len(s6_connect)):\n",
        "        if count != 3:\n",
        "            \n",
        "            x,y,z = coordinates[s6_connect[i]]\n",
        "            main_coordinates[\"s6_connect\"][str(count)][\"x\"].append(x)\n",
        "            main_coordinates[\"s6_connect\"][str(count)][\"y\"].append(y)\n",
        "            main_coordinates[\"s6_connect\"][str(count)][\"z\"].append(z)\n",
        "            \n",
        "            x,y,z = coordinates[s6_connect[i+1]]\n",
        "            main_coordinates[\"s6_connect\"][str(count)][\"x\"].append(x)\n",
        "            main_coordinates[\"s6_connect\"][str(count)][\"y\"].append(y)\n",
        "            main_coordinates[\"s6_connect\"][str(count)][\"z\"].append(z)\n",
        "            count += 1\n",
        "        else:        \n",
        "            \n",
        "            x,y,z = coordinates[s6_connect[i]]\n",
        "            main_coordinates[\"s6_connect\"][str(count)][\"x\"].append(x)\n",
        "            main_coordinates[\"s6_connect\"][str(count)][\"y\"].append(y)\n",
        "            main_coordinates[\"s6_connect\"][str(count)][\"z\"].append(z)\n",
        "            \n",
        "            x,y,z = coordinates[s6_connect[0]]\n",
        "            main_coordinates[\"s6_connect\"][str(count)][\"x\"].append(x)\n",
        "            main_coordinates[\"s6_connect\"][str(count)][\"y\"].append(y)\n",
        "            main_coordinates[\"s6_connect\"][str(count)][\"z\"].append(z)\n",
        "            \n",
        "    # ====================================================\n",
        "\n",
        "    plt.rcParams[\"figure.figsize\"] = [7, 7]\n",
        "    fig = plt.figure()\n",
        "    ax = fig.add_subplot(projection=\"3d\")\n",
        "\n",
        "    # ax.scatter(main_coordinates[\"s1\"][\"x\"], main_coordinates[\"s1\"][\"y\"], main_coordinates[\"s1\"][\"z\"], c=colors[0], s=100)\n",
        "    ax.scatter(main_coordinates[\"s2\"][\"x\"], main_coordinates[\"s2\"][\"z\"], main_coordinates[\"s2\"][\"y\"], c=colors[1], s=10)\n",
        "    ax.scatter(main_coordinates[\"s3\"][\"x\"], main_coordinates[\"s3\"][\"z\"], main_coordinates[\"s3\"][\"y\"], c=colors[2], s=10)\n",
        "    ax.scatter(main_coordinates[\"s4\"][\"x\"], main_coordinates[\"s4\"][\"z\"], main_coordinates[\"s4\"][\"y\"], c=colors[3], s=10)\n",
        "    ax.scatter(main_coordinates[\"s5\"][\"x\"], main_coordinates[\"s5\"][\"z\"], main_coordinates[\"s5\"][\"y\"], c=colors[4], s=10)\n",
        "\n",
        "\n",
        "    # ax.plot(main_coordinates[\"s1\"][\"x\"], main_coordinates[\"s1\"][\"y\"], main_coordinates[\"s1\"][\"z\"], color=colors[0])\n",
        "    ax.plot(main_coordinates[\"s2\"][\"x\"], main_coordinates[\"s2\"][\"z\"], main_coordinates[\"s2\"][\"y\"], color=colors[1])\n",
        "    ax.plot(main_coordinates[\"s3\"][\"x\"], main_coordinates[\"s3\"][\"z\"], main_coordinates[\"s3\"][\"y\"], color=colors[2])\n",
        "    ax.plot(main_coordinates[\"s4\"][\"x\"], main_coordinates[\"s4\"][\"z\"], main_coordinates[\"s4\"][\"y\"], color=colors[3])\n",
        "    ax.plot(main_coordinates[\"s5\"][\"x\"], main_coordinates[\"s5\"][\"z\"], main_coordinates[\"s5\"][\"y\"], color=colors[4])\n",
        "\n",
        "    ax.plot(main_coordinates[\"s6_connect\"][\"0\"][\"x\"], main_coordinates[\"s6_connect\"][\"0\"][\"z\"], main_coordinates[\"s6_connect\"][\"0\"][\"y\"], color=\"black\")\n",
        "    ax.plot(main_coordinates[\"s6_connect\"][\"1\"][\"x\"], main_coordinates[\"s6_connect\"][\"1\"][\"z\"], main_coordinates[\"s6_connect\"][\"1\"][\"y\"], color=\"black\")\n",
        "    ax.plot(main_coordinates[\"s6_connect\"][\"2\"][\"x\"], main_coordinates[\"s6_connect\"][\"2\"][\"z\"], main_coordinates[\"s6_connect\"][\"2\"][\"y\"], color=\"black\")\n",
        "    ax.plot(main_coordinates[\"s6_connect\"][\"3\"][\"x\"], main_coordinates[\"s6_connect\"][\"3\"][\"z\"], main_coordinates[\"s6_connect\"][\"3\"][\"y\"], color=\"black\")\n",
        "\n",
        "    ax.set_xlabel('X-Axis')\n",
        "    ax.set_ylabel('Y-Axis')\n",
        "    ax.set_zlabel('Z-Axis')\n",
        "    \n",
        "\n",
        "    plt.gca().set_aspect('equal', adjustable='box')\n",
        "    plt.show()            "
      ]
    },
    {
      "cell_type": "markdown",
      "metadata": {
        "id": "qd0Zw2AD7rM_"
      },
      "source": [
        "---"
      ]
    },
    {
      "cell_type": "markdown",
      "metadata": {
        "id": "K4-G_6YTGFco"
      },
      "source": [
        "## Model Training"
      ]
    },
    {
      "cell_type": "code",
      "execution_count": null,
      "metadata": {
        "id": "9OaTLJJq7rND"
      },
      "outputs": [],
      "source": [
        "try:\n",
        "    rmtree(r\"/content/Logs/train\", ignore_errors=True)\n",
        "    rmtree(r\"/content/Logs/validation\", ignore_errors=True)\n",
        "except:\n",
        "    print('Some Error Occured while deleting the folders :( .....')"
      ]
    },
    {
      "cell_type": "code",
      "source": [
        "class MPJPELoss(tf.keras.losses.Loss):\n",
        "    def __init__(self, name='mpjpe_loss'):\n",
        "        super().__init__(name=name)\n",
        "\n",
        "    def call(self, y_true, y_pred):\n",
        "        # Compute the Euclidean distance between the predicted and ground truth joint positions\n",
        "        diff = y_pred - y_true\n",
        "        dist = tf.norm(diff, axis=-1)\n",
        "        \n",
        "        # Compute the mean per joint position error (MPJPE)\n",
        "        mpjpe = tf.reduce_mean(dist)\n",
        "        return mpjpe"
      ],
      "metadata": {
        "id": "fRp8Ol2dAoD5"
      },
      "execution_count": null,
      "outputs": []
    },
    {
      "cell_type": "code",
      "execution_count": null,
      "metadata": {
        "id": "z4C5eCS47rND"
      },
      "outputs": [],
      "source": [
        "model = tf.keras.Sequential([\n",
        "    # First convolutional layer\n",
        "    tf.keras.layers.Conv2D(32, (3,3), activation='relu', input_shape=(200,200,3),\n",
        "    tf.keras.layers.MaxPooling2D((2,2)),\n",
        "    tf.keras.layers.Dropout(0.25),\n",
        "    \n",
        "    # Second convolutional layer\n",
        "    tf.keras.layers.Conv2D(64, (3,3), activation='relu'),\n",
        "    tf.keras.layers.MaxPooling2D((2,2)),\n",
        "    tf.keras.layers.Dropout(0.25),\n",
        "    \n",
        "    # Third convolutional layer\n",
        "    tf.keras.layers.Conv2D(128, (3,3), activation='relu'),\n",
        "    tf.keras.layers.MaxPooling2D((2,2)),\n",
        "    tf.keras.layers.Dropout(0.25),\n",
        "    \n",
        "    # Flatten the output of the convolutional layers\n",
        "    tf.keras.layers.Flatten(),\n",
        "    \n",
        "    # First fully connected layer\n",
        "    tf.keras.layers.Dense(512, activation='relu'),\n",
        "    tf.keras.layers.Dropout(0.5),\n",
        "    \n",
        "    # Second fully connected layer\n",
        "    tf.keras.layers.Dense(256, activation='relu'),\n",
        "    tf.keras.layers.Dropout(0.5),\n",
        "    \n",
        "    # Output layer\n",
        "    tf.keras.layers.Dense(36, activation='linear')\n",
        "])\n"
      ]
    },
    {
      "cell_type": "code",
      "execution_count": null,
      "metadata": {
        "id": "6ioNqbt8FAk7"
      },
      "outputs": [],
      "source": [
        "try:\n",
        "  os.mkdir(r\"/content/Models\")\n",
        "except:\n",
        "  pass"
      ]
    },
    {
      "cell_type": "code",
      "source": [
        "# model.summary()\n",
        "\n",
        "model.compile(optimizer='adam', loss=MPJPELoss())\n",
        "\n",
        "# Print the model summary\n",
        "model.summary()"
      ],
      "metadata": {
        "id": "rAC7lOtLAjpc"
      },
      "execution_count": null,
      "outputs": []
    },
    {
      "cell_type": "code",
      "execution_count": null,
      "metadata": {
        "id": "zpiHE7wp7rNE"
      },
      "outputs": [],
      "source": [
        "Log_callback = tf.keras.callbacks.TensorBoard(log_dir='./Logs/', histogram_freq=0,\n",
        "                          write_graph=True, write_images=False)\n",
        "\n",
        "Model_Checkpoint_callback = tf.keras.callbacks.ModelCheckpoint(filepath=\"./Models/model_{epoch:02d}_{val_loss:.4f}.h5\")\n",
        "\n",
        "Earlystop_callback = tf.keras.callbacks.EarlyStopping(\n",
        "                    monitor='val_loss',\n",
        "                    patience=2,\n",
        "                    restore_best_weights=True\n",
        "                )\n"
      ]
    },
    {
      "cell_type": "code",
      "execution_count": null,
      "metadata": {
        "id": "VT38fP8s7rNF",
        "outputId": "f76012bb-2441-4f33-b4dc-94bb0f6d248e",
        "colab": {
          "base_uri": "https://localhost:8080/"
        }
      },
      "outputs": [
        {
          "output_type": "stream",
          "name": "stdout",
          "text": [
            "Epoch 1/35\n",
            " 11/221 [>.............................] - ETA: 2:11:24 - loss: 9.1634"
          ]
        }
      ],
      "source": [
        "history = model.fit(\n",
        "            train_generator,shuffle=True,\n",
        "            validation_data=test_generator,\n",
        "            epochs=35,\n",
        "            steps_per_epoch=len(train_generator),\n",
        "            callbacks=[Log_callback,\n",
        "            Model_Checkpoint_callback,\n",
        "            Earlystop_callback]\n",
        "        )"
      ]
    },
    {
      "cell_type": "markdown",
      "metadata": {
        "id": "P4egcbwo7rNI"
      },
      "source": [
        "---"
      ]
    },
    {
      "cell_type": "code",
      "execution_count": null,
      "metadata": {
        "id": "S03UhKnJ7rNJ"
      },
      "outputs": [],
      "source": [
        "# train_count = 1\n",
        "# items_left = len(dirs)\n",
        "\n",
        "# x_train,x_test,y_train,y_test = image_preprocess(batch_size=1,input_size=(200,200))"
      ]
    },
    {
      "cell_type": "code",
      "execution_count": null,
      "metadata": {
        "id": "jtr75FvtO_Po"
      },
      "outputs": [],
      "source": [
        "x_train, y_train = next(train_generator)"
      ]
    },
    {
      "cell_type": "code",
      "execution_count": null,
      "metadata": {
        "id": "toZx1-XMRotw"
      },
      "outputs": [],
      "source": [
        "np.array(x_train[0]).shape"
      ]
    },
    {
      "cell_type": "code",
      "execution_count": null,
      "metadata": {
        "id": "bat5yH4rRRRH"
      },
      "outputs": [],
      "source": [
        "np.array(y_train)[2]"
      ]
    },
    {
      "cell_type": "code",
      "execution_count": null,
      "metadata": {
        "id": "95ib8UJ9QPJU"
      },
      "outputs": [],
      "source": [
        "np.array(y_train)[:,0]"
      ]
    },
    {
      "cell_type": "code",
      "execution_count": null,
      "metadata": {
        "id": "B8x5oXoB7rNJ"
      },
      "outputs": [],
      "source": [
        "def predict(data):\n",
        "    output_location = {}\n",
        "    pred = model.predict(data)\n",
        "    pred = scaler.inverse_transform(pred)\n",
        "    print(pred)\n",
        "\n",
        "    \n",
        "    start = 0\n",
        "    stop = 3\n",
        "    for i in joints:\n",
        "        output_location[i] = (pred[0][start:stop]).tolist()\n",
        "        start = stop\n",
        "        stop += 3\n",
        "    \n",
        "    print(output_location) \n",
        "    \n",
        "    odata = json.dumps(output_location)\n",
        "    with open(\"./output_location.json\",\"w\") as o:\n",
        "        o.write(odata)\n",
        "        o.close()\n",
        "\n",
        "\n",
        "    plot_results(output_location)  \n",
        "    return pred"
      ]
    },
    {
      "cell_type": "code",
      "execution_count": null,
      "metadata": {
        "id": "4_t40E4e7rNK"
      },
      "outputs": [],
      "source": [
        "num = 100\n",
        "\n",
        "# y_true = y_train[num]\n",
        "# print(\"y_true\",y_true)\n",
        "\n",
        "\n",
        "y_pred = predict(x_train[num-1:num])\n",
        "print(\"Y_pred\",y_pred) \n",
        "\n",
        "# print(\"MSE - \", mean_squared_error(y_true=y_true,y_pred=y_pred[0]))   \n",
        "\n",
        "fig1 = plt.figure()\n",
        "ax1 = fig1.add_subplot()\n",
        "\n",
        "ax1.imshow(x_train[num])\n"
      ]
    },
    {
      "cell_type": "code",
      "execution_count": null,
      "metadata": {
        "id": "jX3v78i5syHq"
      },
      "outputs": [],
      "source": [
        "test_loc = {}\n",
        "\n",
        "start = 0\n",
        "stop = 3\n",
        "for i in joints:\n",
        "    test_loc[i] = (y_train[num][start:stop]).tolist()\n",
        "    start = stop\n",
        "    stop += 3\n",
        "    \n",
        "plot_results(test_loc)"
      ]
    }
  ],
  "metadata": {
    "accelerator": "GPU",
    "colab": {
      "provenance": []
    },
    "gpuClass": "standard",
    "kernelspec": {
      "display_name": "Python 3",
      "language": "python",
      "name": "python3"
    },
    "language_info": {
      "codemirror_mode": {
        "name": "ipython",
        "version": 3
      },
      "file_extension": ".py",
      "mimetype": "text/x-python",
      "name": "python",
      "nbconvert_exporter": "python",
      "pygments_lexer": "ipython3",
      "version": "3.10.10"
    },
    "orig_nbformat": 4,
    "vscode": {
      "interpreter": {
        "hash": "99460fd9ebe2c20c1dcb6f43062bee5e5f97aeab87cb7e0eeae0ed01543a200e"
      }
    }
  },
  "nbformat": 4,
  "nbformat_minor": 0
}
